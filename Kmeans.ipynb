{
  "nbformat": 4,
  "nbformat_minor": 0,
  "metadata": {
    "colab": {
      "name": "Untitled3.ipynb",
      "provenance": [],
      "include_colab_link": true
    },
    "kernelspec": {
      "name": "python3",
      "display_name": "Python 3"
    }
  },
  "cells": [
    {
      "cell_type": "markdown",
      "metadata": {
        "id": "view-in-github",
        "colab_type": "text"
      },
      "source": [
        "<a href=\"https://colab.research.google.com/github/RianNugroho/pengpol/blob/master/Kmeans.ipynb\" target=\"_parent\"><img src=\"https://colab.research.google.com/assets/colab-badge.svg\" alt=\"Open In Colab\"/></a>"
      ]
    },
    {
      "cell_type": "code",
      "metadata": {
        "id": "BOP8EBTuee3T",
        "colab_type": "code",
        "colab": {}
      },
      "source": [
        "import random\n",
        "import math\n",
        "\n",
        "\n",
        "def dist(arr1, arr2):\n",
        "    if (len(arr1) != len(arr2)):\n",
        "        return\n",
        "    temp = 0\n",
        "    for i in range(len(arr1)):\n",
        "        temp += math.pow(arr1[i] - arr2[i], 2)\n",
        "    return math.sqrt(temp)\n",
        "\n",
        "\n",
        "\n",
        "\n",
        "\n",
        "def kmeans(no_centroid, dataset):\n",
        "    union = dict()\n",
        "    centroid = dict()\n",
        "    ##init centroid\n",
        "    for i in range(no_centroid):\n",
        "        a = []\n",
        "        for j in range(len(dataset[0])):\n",
        "            a += [random.randint(1.0, 10.0)]\n",
        "        centroid[i] = a\n",
        "    cek = False\n",
        "\n",
        "    while (True):\n",
        "        newCentro = dict()\n",
        "        count = dict()\n",
        "        for i in range(len(centroid)):\n",
        "            a = []\n",
        "            for j in range(len(centroid[i])):\n",
        "                a += [0.0]\n",
        "            newCentro[i] = a\n",
        "            count[i] = 0\n",
        "\n",
        "        ##menentukan data termasuk union mana\n",
        "        for i in range(len(dataset)):\n",
        "            min =99999999\n",
        "            for j in range(len(centroid)):\n",
        "                temp = dist(dataset[i], centroid[j])\n",
        "                if (temp < min):\n",
        "                    union[i] = j\n",
        "                    min = temp\n",
        "\n",
        "            ##mencari total dimensi pada data yang termasuk sebuah centroid\n",
        "\n",
        "            for j in range(len(dataset[i])):\n",
        "                newCentro[union[i]][j] += dataset[i][j]\n",
        "            count[union[i]] += 1\n",
        "\n",
        "        ##mencari average centroid. jika perubahan tiap centroid kurang dari 0.0000000000001, maka iterasi selesai\n",
        "\n",
        "        for i in range(len(newCentro)):\n",
        "            for j in range(len(newCentro[i])):\n",
        "                if (count[i] != 0):\n",
        "                    newCentro[i][j] /= count[i]\n",
        "\n",
        "        for i in range(len(newCentro)):\n",
        "            if (dist(newCentro[i], centroid[i]) < 0.00000001):\n",
        "                cek=True\n",
        "\n",
        "\n",
        "        if (cek):\n",
        "            break\n",
        "        else:\n",
        "            for i in range(len(centroid)):\n",
        "                if (count[i] != 0):\n",
        "                    centroid[i] = newCentro[i]\n",
        "    print(centroid)\n",
        "\n"
      ],
      "execution_count": 0,
      "outputs": []
    },
    {
      "cell_type": "code",
      "metadata": {
        "id": "d2qL-0DZowIz",
        "colab_type": "code",
        "outputId": "e2441ca4-44b9-4819-fcc7-6be11f8c9cad",
        "colab": {
          "base_uri": "https://localhost:8080/",
          "height": 35
        }
      },
      "source": [
        "kmeans(3,[[1,2,3],[4,5,6],[7,8,9]])"
      ],
      "execution_count": 0,
      "outputs": [
        {
          "output_type": "stream",
          "text": [
            "{0: [5.5, 6.5, 7.5], 1: [10, 2, 2], 2: [1.0, 2.0, 3.0]}\n"
          ],
          "name": "stdout"
        }
      ]
    },
    {
      "cell_type": "code",
      "metadata": {
        "id": "9s0KVKFxp7W8",
        "colab_type": "code",
        "colab": {}
      },
      "source": [
        ""
      ],
      "execution_count": 0,
      "outputs": []
    }
  ]
}